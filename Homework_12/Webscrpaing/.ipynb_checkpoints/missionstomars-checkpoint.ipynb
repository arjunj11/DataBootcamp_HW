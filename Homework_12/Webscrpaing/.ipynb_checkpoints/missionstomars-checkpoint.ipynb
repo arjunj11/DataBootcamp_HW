{
 "cells": [
  {
   "cell_type": "code",
   "execution_count": 2,
   "metadata": {},
   "outputs": [],
   "source": [
    "from bs4 import BeautifulSoup as bs\n",
    "import pandas as pd\n",
    "from splinter import Browser"
   ]
  },
  {
   "cell_type": "code",
   "execution_count": 21,
   "metadata": {},
   "outputs": [],
   "source": [
    "executable_path = {'executable_path':'chromedriver.exe'}\n",
    "browser=Browser('chrome',**executable_path,headless=False)"
   ]
  },
  {
   "cell_type": "code",
   "execution_count": 2,
   "metadata": {},
   "outputs": [],
   "source": [
    "url='https://mars.nasa.gov/news'\n",
    "browser.visit(url)\n",
    "html=browser.html\n",
    "soup=bs(html,'html.parser')"
   ]
  },
  {
   "cell_type": "code",
   "execution_count": 3,
   "metadata": {},
   "outputs": [],
   "source": [
    "classlists=soup.find_all(class_=\"list_text\")\n",
    "titletext=[]\n",
    "paratext=[]\n",
    "for classlist in classlists:\n",
    "    titletext.append((classlist.find_all(class_='content_title'))[0].a.text)\n",
    "    paratext.append((classlist.find_all(class_='article_teaser_body'))[0].text)"
   ]
  },
  {
   "cell_type": "code",
   "execution_count": 30,
   "metadata": {},
   "outputs": [
    {
     "data": {
      "text/plain": [
       "'https://www.jpl.nasa.gov/spaceimages/images/mediumsize/PIA17172_ip.jpg'"
      ]
     },
     "execution_count": 30,
     "metadata": {},
     "output_type": "execute_result"
    }
   ],
   "source": [
    "url1='https://www.jpl.nasa.gov'\n",
    "url2='/spaceimages/?search=&category=Mars'\n",
    "browser.visit((url1+url2))\n",
    "html1=browser.html\n",
    "button = browser.find_by_id('full_image')\n",
    "button.click()\n",
    "soup1=bs(html1,'html.parser')\n",
    "imgsrc=soup1.footer.a['data-fancybox-href']\n",
    "featured_image_url=url1+imgsrc\n",
    "featured_image_url"
   ]
  },
  {
   "cell_type": "code",
   "execution_count": 37,
   "metadata": {},
   "outputs": [
    {
     "data": {
      "text/plain": [
       "'InSight sol 391 (2020-01-01) low -99.0ºC (-146.1ºF) high -17.6ºC (0.3ºF)\\nwinds from the SE at 5.7 m/s (12.7 mph) gusting to 21.9 m/s (49.0 mph)\\npressure at 6.40 hPapic.twitter.com/bSrZXEn17r'"
      ]
     },
     "execution_count": 37,
     "metadata": {},
     "output_type": "execute_result"
    }
   ],
   "source": [
    "url='https://twitter.com/marswxreport?lang=en'\n",
    "browser.visit(url)\n",
    "html=browser.html\n",
    "soup=bs(html,'html.parser')\n",
    "mars_weather=soup.find('p',class_='TweetTextSize TweetTextSize--normal js-tweet-text tweet-text').text\n",
    "mars_weather"
   ]
  }
 ],
 "metadata": {
  "kernelspec": {
   "display_name": "Python 3",
   "language": "python",
   "name": "python3"
  },
  "language_info": {
   "codemirror_mode": {
    "name": "ipython",
    "version": 3
   },
   "file_extension": ".py",
   "mimetype": "text/x-python",
   "name": "python",
   "nbconvert_exporter": "python",
   "pygments_lexer": "ipython3",
   "version": "3.7.3"
  }
 },
 "nbformat": 4,
 "nbformat_minor": 2
}
