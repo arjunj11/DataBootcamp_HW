{
 "cells": [
  {
   "cell_type": "code",
   "execution_count": 1,
   "metadata": {},
   "outputs": [],
   "source": [
    "from bs4 import BeautifulSoup as bs\n",
    "import pandas as pd\n",
    "from splinter import Browser"
   ]
  },
  {
   "cell_type": "code",
   "execution_count": 2,
   "metadata": {},
   "outputs": [],
   "source": [
    "executable_path = {'executable_path':'chromedriver.exe'}\n",
    "browser=Browser('chrome',**executable_path,headless=False)"
   ]
  },
  {
   "cell_type": "code",
   "execution_count": 3,
   "metadata": {},
   "outputs": [],
   "source": [
    "url='https://mars.nasa.gov/news'\n",
    "browser.visit(url)\n",
    "html=browser.html\n",
    "soup=bs(html,'html.parser')"
   ]
  },
  {
   "cell_type": "code",
   "execution_count": 4,
   "metadata": {},
   "outputs": [],
   "source": [
    "classlists=soup.find_all(class_=\"list_text\")\n",
    "titletext=[]\n",
    "paratext=[]\n",
    "for classlist in classlists:\n",
    "    titletext.append((classlist.find_all(class_='content_title'))[0].a.text)\n",
    "    paratext.append((classlist.find_all(class_='article_teaser_body'))[0].text)"
   ]
  },
  {
   "cell_type": "code",
   "execution_count": 5,
   "metadata": {},
   "outputs": [
    {
     "data": {
      "text/plain": [
       "'https://www.jpl.nasa.gov/spaceimages/images/mediumsize/PIA19334_ip.jpg'"
      ]
     },
     "execution_count": 5,
     "metadata": {},
     "output_type": "execute_result"
    }
   ],
   "source": [
    "url1='https://www.jpl.nasa.gov'\n",
    "url2='/spaceimages/?search=&category=Mars'\n",
    "browser.visit((url1+url2))\n",
    "html1=browser.html\n",
    "button = browser.find_by_id('full_image')\n",
    "button.click()\n",
    "soup1=bs(html1,'html.parser')\n",
    "imgsrc=soup1.footer.a['data-fancybox-href']\n",
    "featured_image_url=url1+imgsrc\n",
    "featured_image_url"
   ]
  },
  {
   "cell_type": "code",
   "execution_count": 6,
   "metadata": {},
   "outputs": [
    {
     "data": {
      "text/plain": [
       "'InSight sol 402 (2020-01-13) low -100.0ºC (-148.1ºF) high -16.8ºC (1.7ºF)\\nwinds from the SSE at 5.4 m/s (12.0 mph) gusting to 21.1 m/s (47.3 mph)\\npressure at 6.40 hPapic.twitter.com/hcm6q7P8HW'"
      ]
     },
     "execution_count": 6,
     "metadata": {},
     "output_type": "execute_result"
    }
   ],
   "source": [
    "url='https://twitter.com/marswxreport?lang=en'\n",
    "browser.visit(url)\n",
    "html=browser.html\n",
    "soup=bs(html,'html.parser')\n",
    "mars_weather=soup.find('p',class_='TweetTextSize TweetTextSize--normal js-tweet-text tweet-text').text\n",
    "mars_weather"
   ]
  },
  {
   "cell_type": "code",
   "execution_count": 7,
   "metadata": {},
   "outputs": [],
   "source": [
    "url2='https://space-facts.com/mars/'\n",
    "browser.visit(url2)\n",
    "html=browser.html\n",
    "soup=bs(html,'html.parser')\n",
    "table=soup.find_all('table')[0]"
   ]
  },
  {
   "cell_type": "code",
   "execution_count": 14,
   "metadata": {},
   "outputs": [],
   "source": [
    "tabledata=pd.read_html(str(table))\n",
    "tabledf=tabledata[0]"
   ]
  },
  {
   "cell_type": "code",
   "execution_count": 15,
   "metadata": {},
   "outputs": [],
   "source": [
    "tabledf.rename(columns={0:'Description',1:''},inplace=True)\n",
    "tabledf.set_index('Description')"
   ]
  },
  {
   "cell_type": "code",
   "execution_count": 20,
   "metadata": {},
   "outputs": [
    {
     "name": "stdout",
     "output_type": "stream",
     "text": [
      "<table border=\"1\" class=\"dataframe\">\n",
      "  <thead>\n",
      "    <tr style=\"text-align: right;\">\n",
      "      <th></th>\n",
      "      <th>Description</th>\n",
      "      <th></th>\n",
      "    </tr>\n",
      "  </thead>\n",
      "  <tbody>\n",
      "    <tr>\n",
      "      <th>0</th>\n",
      "      <td>Equatorial Diameter:</td>\n",
      "      <td>6,792 km</td>\n",
      "    </tr>\n",
      "    <tr>\n",
      "      <th>1</th>\n",
      "      <td>Polar Diameter:</td>\n",
      "      <td>6,752 km</td>\n",
      "    </tr>\n",
      "    <tr>\n",
      "      <th>2</th>\n",
      "      <td>Mass:</td>\n",
      "      <td>6.39 × 10^23 kg (0.11 Earths)</td>\n",
      "    </tr>\n",
      "    <tr>\n",
      "      <th>3</th>\n",
      "      <td>Moons:</td>\n",
      "      <td>2 (Phobos &amp; Deimos)</td>\n",
      "    </tr>\n",
      "    <tr>\n",
      "      <th>4</th>\n",
      "      <td>Orbit Distance:</td>\n",
      "      <td>227,943,824 km (1.38 AU)</td>\n",
      "    </tr>\n",
      "    <tr>\n",
      "      <th>5</th>\n",
      "      <td>Orbit Period:</td>\n",
      "      <td>687 days (1.9 years)</td>\n",
      "    </tr>\n",
      "    <tr>\n",
      "      <th>6</th>\n",
      "      <td>Surface Temperature:</td>\n",
      "      <td>-87 to -5 °C</td>\n",
      "    </tr>\n",
      "    <tr>\n",
      "      <th>7</th>\n",
      "      <td>First Record:</td>\n",
      "      <td>2nd millennium BC</td>\n",
      "    </tr>\n",
      "    <tr>\n",
      "      <th>8</th>\n",
      "      <td>Recorded By:</td>\n",
      "      <td>Egyptian astronomers</td>\n",
      "    </tr>\n",
      "  </tbody>\n",
      "</table>\n"
     ]
    }
   ],
   "source": [
    "tablehtml=tabledf.to_html()\n",
    "print(tablehtml)"
   ]
  },
  {
   "cell_type": "code",
   "execution_count": 13,
   "metadata": {},
   "outputs": [],
   "source": [
    "url3='https://astrogeology.usgs.gov'\n",
    "url4='/search/results?q=hemisphere+enhanced&k1=target&v1=Mars'\n",
    "browser.visit(url3+url4)\n",
    "html2=browser.html\n",
    "soup=bs(html2,'html.parser')"
   ]
  },
  {
   "cell_type": "code",
   "execution_count": 14,
   "metadata": {},
   "outputs": [],
   "source": [
    "marshemi=soup.find_all('a',class_='itemLink product-item')"
   ]
  },
  {
   "cell_type": "code",
   "execution_count": 15,
   "metadata": {},
   "outputs": [
    {
     "data": {
      "text/plain": [
       "8"
      ]
     },
     "execution_count": 15,
     "metadata": {},
     "output_type": "execute_result"
    }
   ],
   "source": [
    "len(marshemi)"
   ]
  },
  {
   "cell_type": "code",
   "execution_count": null,
   "metadata": {},
   "outputs": [],
   "source": []
  },
  {
   "cell_type": "code",
   "execution_count": 16,
   "metadata": {},
   "outputs": [
    {
     "data": {
      "text/plain": [
       "['https://astrogeology.usgs.gov/search/map/Mars/Viking/cerberus_enhanced',\n",
       " 'https://astrogeology.usgs.gov/search/map/Mars/Viking/schiaparelli_enhanced',\n",
       " 'https://astrogeology.usgs.gov/search/map/Mars/Viking/syrtis_major_enhanced',\n",
       " 'https://astrogeology.usgs.gov/search/map/Mars/Viking/valles_marineris_enhanced']"
      ]
     },
     "execution_count": 16,
     "metadata": {},
     "output_type": "execute_result"
    }
   ],
   "source": [
    "urllist=[]\n",
    "for i in [1,3,5,7]:\n",
    "    urllist.append(url3+marshemi[i]['href'])\n",
    "urllist"
   ]
  },
  {
   "cell_type": "code",
   "execution_count": 18,
   "metadata": {},
   "outputs": [
    {
     "name": "stdout",
     "output_type": "stream",
     "text": [
      "[{'title': 'Cerberus Hemisphere Enhanced', 'img_url': 'https://astrogeology.usgs.gov/cache/images/cfa62af2557222a02478f1fcd781d445_cerberus_enhanced.tif_full.jpg'}, {'title': 'Schiaparelli Hemisphere Enhanced', 'img_url': 'https://astrogeology.usgs.gov/cache/images/3cdd1cbf5e0813bba925c9030d13b62e_schiaparelli_enhanced.tif_full.jpg'}, {'title': 'Syrtis Major Hemisphere Enhanced', 'img_url': 'https://astrogeology.usgs.gov/cache/images/ae209b4e408bb6c3e67b6af38168cf28_syrtis_major_enhanced.tif_full.jpg'}, {'title': 'Valles Marineris Hemisphere Enhanced', 'img_url': 'https://astrogeology.usgs.gov/cache/images/7cf2da4bf549ed01c17f206327be4db7_valles_marineris_enhanced.tif_full.jpg'}]\n"
     ]
    }
   ],
   "source": [
    "hemisphere_image_urls = [\n",
    "    {\"title\": \"\", \"img_url\": \"\"},\n",
    "    {\"title\": \"\", \"img_url\": \"\"},\n",
    "    {\"title\": \"\", \"img_url\": \"\"},\n",
    "    {\"title\": \"\", \"img_url\": \"\"},\n",
    "]\n",
    "\n",
    "for j in range(len(urllist)):\n",
    "    \n",
    "    browser.visit(urllist[j])\n",
    "    html1=browser.html\n",
    "    soup1=bs(html1,'html.parser')\n",
    "    imgsrc=soup1.find_all('img',class_='wide-image')[0]['src']\n",
    "    hemisphere_image_urls[j]['img_url']=url3+imgsrc\n",
    "    hemisphere_image_urls[j]['title']=marshemi[((j*2)+1)].h3.text\n",
    "    \n",
    "print(hemisphere_image_urls)"
   ]
  },
  {
   "cell_type": "code",
   "execution_count": 19,
   "metadata": {},
   "outputs": [],
   "source": [
    "browser.quit()"
   ]
  },
  {
   "cell_type": "code",
   "execution_count": 20,
   "metadata": {},
   "outputs": [],
   "source": [
    "results_dict = {\"Mars_News_Titles\":titletext,\n",
    "        \"Mars_News_Paragraphs\":paratext,\n",
    "        \"Main_Image\":featured_image_url,\n",
    "        \"Mars_Weather\":mars_weather,\n",
    "        \"Mars_Details_inTablehtml\":tablehtml,\n",
    "        \"Hemisphere_Images\":hemisphere_image_urls\n",
    "        }"
   ]
  },
  {
   "cell_type": "code",
   "execution_count": 21,
   "metadata": {},
   "outputs": [
    {
     "data": {
      "text/plain": [
       "{'Mars_News_Titles': [\"Media Get a Close-Up of NASA's Mars 2020 Rover\",\n",
       "  'Space History Is Made in This NASA Robot Factory',\n",
       "  \"NASA's Mars 2020 Rover Completes Its First Drive\",\n",
       "  \"NASA's Treasure Map for Water Ice on Mars\",\n",
       "  'Two Rovers to Roll on Mars Again: Curiosity and Mars 2020',\n",
       "  \"NASA's Briefcase-Size MarCO Satellite Picks Up Honors\",\n",
       "  'Global Storms on Mars Launch Dust Towers Into the Sky',\n",
       "  'NASA Updates Mars 2020 Mission Environmental Review',\n",
       "  'Two of a Space Kind: Apollo 12 and Mars 2020',\n",
       "  'Mars Scientists Investigate Ancient Life in Australia',\n",
       "  \"NASA's Mars 2020 Will Hunt for Microscopic Fossils\",\n",
       "  'With Mars Methane Mystery Unsolved, Curiosity Serves Scientists a New One: Oxygen',\n",
       "  \"NASA's Mars 2020 Heads Into the Test Chamber\",\n",
       "  \"Screening Soon: 'The Pathfinders' Trains Lens on Mars\",\n",
       "  \"InSight's 'Mole' Team Peers into the Pit\",\n",
       "  \"Common Questions about InSight's 'Mole'\",\n",
       "  'Mars 2020 Stands on Its Own Six Wheels',\n",
       "  'New Selfie Shows Curiosity, the Mars Chemist',\n",
       "  'Naming a NASA Mars Rover Can Change Your Life',\n",
       "  'Mars 2020 Unwrapped and Ready for More Testing',\n",
       "  \"HiRISE Views NASA's InSight and Curiosity on Mars\",\n",
       "  \"NASA's Curiosity Rover Finds an Ancient Oasis on Mars\",\n",
       "  \"NASA's Mars 2020 Rover Tests Descent-Stage Separation\",\n",
       "  \"NASA's Push to Save the Mars InSight Lander's Heat Probe\",\n",
       "  \"NASA's InSight 'Hears' Peculiar Sounds on Mars\",\n",
       "  'NASA Mars Mission Connects With Bosnian and Herzegovinian Town',\n",
       "  \"Deadline Closing for Names to Fly on NASA's Next Mars Rover\",\n",
       "  'NASA Wins Two Emmy Awards for Interactive Mission Coverage',\n",
       "  \"NASA's Mars 2020 Comes Full Circle\",\n",
       "  'NASA Invites Students to Name Mars 2020 Rover',\n",
       "  \"NASA's Mars Helicopter Attached to Mars 2020 Rover \",\n",
       "  \"What's Mars Solar Conjunction, and Why Does It Matter?\",\n",
       "  'Scientists Explore Outback as Testbed for Mars ',\n",
       "  \"NASA-JPL Names 'Rolling Stones Rock' on Mars\",\n",
       "  \"Robotic Toolkit Added to NASA's Mars 2020 Rover\",\n",
       "  \"Space Samples Link NASA's Apollo 11 and Mars 2020\",\n",
       "  'Small Satellite Mission of the Year',\n",
       "  \"NASA 'Optometrists' Verify Mars 2020 Rover's 20/20 Vision\",\n",
       "  'New Finds for Mars Rover, Seven Years After Landing',\n",
       "  'MEDLI2 Installation on Mars 2020 Aeroshell Begins'],\n",
       " 'Mars_News_Paragraphs': [\"The clean room at NASA's Jet Propulsion Laboratory was open to the media to see NASA's next Mars explorer before it leaves for Florida in preparation for a summertime launch.\",\n",
       "  \"From rockets to rovers, JPL's Spacecraft Assembly Facility has been at the center of robotic spaceflight. Here's a closer look at what makes it so special.\",\n",
       "  'In a 10-plus-hour marathon, the rover steered, turned and drove in 3-foot (1-meter) increments over small ramps.',\n",
       "  'A new study identifies frozen water just below the Martian surface, where astronauts could easily dig it up.',\n",
       "  'They look like twins. But under the hood, the rover currently exploring the Red Planet and the one launching there this summer have distinct science tools and roles to play.',\n",
       "  'The twin spacecraft, the first of their kind to fly into deep space, earn a Laureate from Aviation Week & Space Technology.',\n",
       "  'A Mars Dust Tower Stands Out Dust storms are common on Mars. But every decade or so, something unpredictable happens: a series of runaway storms break out, covering the entire planet in a dusty haze.',\n",
       "  'NASA and the Department of Energy have completed a more detailed risk analysis for the Mars 2020 rover launch from Florida.',\n",
       "  'Apollo 12 and the upcoming Mars 2020 mission may be separated by half a century, but they share several goals unique in the annals of space exploration.',\n",
       "  \"Teams with NASA's Mars 2020 and ESA's ExoMars practiced hunting for fossilized microbial life in the Australian Outback in preparation for their Red Planet missions. \",\n",
       "  \"A new paper identifies a ring of minerals at the rover's landing site that are ideal for fossilizing microbial life.\",\n",
       "  'For the first time in the history of space exploration, scientists have measured the seasonal changes in the gases that fill the air directly above the surface of Gale Crater on Mars. ',\n",
       "  'In this time-lapse video taken at JPL, engineers move the Mars 2020 rover into a large vacuum chamber for testing in Mars-like environmental conditions.',\n",
       "  'With the Mars 2020 mission ramping up, the documentary — the first of four about past JPL missions to the Red Planet to be shown at Caltech — tells a gripping backstory.',\n",
       "  'Efforts to save the heat probe continue.',\n",
       "  'There\\'s a new plan to get InSight\\'s \"mole\" moving again. The following Q&As with two members of the team answer some of the most common questions about the burrowing device, part of a science instrument called the Heat Flow and Physical Properties Package (HP3).',\n",
       "  \"In time-lapse video, taken at JPL, captures the first time NASA's Mars 2020 rover carries its full weight on its legs and wheels.\",\n",
       "  'The NASA rover performed a special chemistry experiment at the location captured in its newest self-portrait.',\n",
       "  'Want to name the robotic scientist NASA is sending to Mars in 2020? The student who named Curiosity — the rover currently exploring Mars — will tell you this is an opportunity worth taking.',\n",
       "  \"In time-lapse video, bunny-suited engineers remove the inner layer of protective foil on NASA's Mars 2020 rover after it was relocated for testing.\",\n",
       "  'New images taken from space offer the clearest orbital glimpse yet of InSight as well as a view of Curiosity rolling along.',\n",
       "  \"New evidence suggests salty, shallow ponds once dotted a Martian crater — a sign of the planet's drying climate.\",\n",
       "  \"A crane lifts the rocket-powered descent stage away from NASA's Mars 2020 rover after technicians tested the pyrotechnic charges that separate the two spacecraft.\",\n",
       "  \"The scoop on the end of the spacecraft's robotic arm will be used to 'pin' the mole against the wall of its hole.\",\n",
       "  'Listen to the marsquakes and other, less-expected sounds that the Mars lander has been detecting.',\n",
       "  'A letter from NASA was presented to the mayor of Jezero, Bosnia-Herzegovina, honoring the connection between the town and Jezero Crater, the Mars 2020 rover landing site.',\n",
       "  'You have until Sept. 30 to send your names to Mars aboard the Mars 2020 rover. ',\n",
       "  \"NASA-JPL's coverage of the Mars InSight landing earns one of the two wins, making this the NASA center's second Emmy.\",\n",
       "  \"Aiming to pinpoint the Martian vehicle's center of gravity, engineers took NASA's 2,300-pound Mars 2020 rover for a spin in the clean room at JPL. \",\n",
       "  \"Through Nov. 1, K-12 students in the U.S. are encouraged to enter an essay contest to name NASA's next Mars rover.\",\n",
       "  'The helicopter will be first aircraft to perform flight tests on another planet.',\n",
       "  'NASA spacecraft at Mars are going to be on their own for a few weeks when the Sun comes between Mars and Earth, interrupting communications.',\n",
       "  \"Australia provides a great place for NASA's Mars 2020 and the ESA-Roscosmos ExoMars scientists to hone techniques in preparation for searching for signs ancient life on Mars.\",\n",
       "  \"NASA's Mars InSight mission honored one of the biggest bands of all time at Pasadena concert.\",\n",
       "  \"The bit carousel, which lies at the heart of the rover's Sample Caching System, is now aboard NASA's newest rover. \",\n",
       "  \"While separated by half a century, NASA's Apollo 11 and Mars 2020 missions share the same historic goal: returning samples to Earth.\",\n",
       "  'The first interplanetary CubeSats were recognized by the engineering community with the 2019 Small Satellite Mission of the Year award.',\n",
       "  'Mars 2020 rover underwent an eye exam after several cameras were installed on the rover.',\n",
       "  'NASA\\'s Curiosity rover is discovering odd rocks halfway into a region called the \"clay-bearing unit.\"',\n",
       "  \"Hardware installed onto NASA's Mars 2020 entry vehicle this week will help to increase the safety of future Mars landings.\"],\n",
       " 'Main_Image': 'https://www.jpl.nasa.gov/spaceimages/images/mediumsize/PIA16192_ip.jpg',\n",
       " 'Mars_Weather': 'InSight sol 398 (2020-01-09) low -100.6ºC (-149.1ºF) high -16.8ºC (1.8ºF)\\nwinds from the SSE at 6.1 m/s (13.6 mph) gusting to 19.5 m/s (43.7 mph)\\npressure at 6.40 hPapic.twitter.com/kmdvrZ2M8m',\n",
       " 'Mars_Details_inTablehtml': '<table border=\"1\" class=\"dataframe\">\\n  <thead>\\n    <tr style=\"text-align: right;\">\\n      <th></th>\\n      <th>0</th>\\n      <th>1</th>\\n    </tr>\\n  </thead>\\n  <tbody>\\n    <tr>\\n      <th>0</th>\\n      <td>Equatorial Diameter:</td>\\n      <td>6,792 km</td>\\n    </tr>\\n    <tr>\\n      <th>1</th>\\n      <td>Polar Diameter:</td>\\n      <td>6,752 km</td>\\n    </tr>\\n    <tr>\\n      <th>2</th>\\n      <td>Mass:</td>\\n      <td>6.39 × 10^23 kg (0.11 Earths)</td>\\n    </tr>\\n    <tr>\\n      <th>3</th>\\n      <td>Moons:</td>\\n      <td>2 (Phobos &amp; Deimos)</td>\\n    </tr>\\n    <tr>\\n      <th>4</th>\\n      <td>Orbit Distance:</td>\\n      <td>227,943,824 km (1.38 AU)</td>\\n    </tr>\\n    <tr>\\n      <th>5</th>\\n      <td>Orbit Period:</td>\\n      <td>687 days (1.9 years)</td>\\n    </tr>\\n    <tr>\\n      <th>6</th>\\n      <td>Surface Temperature:</td>\\n      <td>-87 to -5 °C</td>\\n    </tr>\\n    <tr>\\n      <th>7</th>\\n      <td>First Record:</td>\\n      <td>2nd millennium BC</td>\\n    </tr>\\n    <tr>\\n      <th>8</th>\\n      <td>Recorded By:</td>\\n      <td>Egyptian astronomers</td>\\n    </tr>\\n  </tbody>\\n</table>',\n",
       " 'Hemisphere_Images': [{'title': 'Cerberus Hemisphere Enhanced',\n",
       "   'img_url': 'https://astrogeology.usgs.gov/cache/images/cfa62af2557222a02478f1fcd781d445_cerberus_enhanced.tif_full.jpg'},\n",
       "  {'title': 'Schiaparelli Hemisphere Enhanced',\n",
       "   'img_url': 'https://astrogeology.usgs.gov/cache/images/3cdd1cbf5e0813bba925c9030d13b62e_schiaparelli_enhanced.tif_full.jpg'},\n",
       "  {'title': 'Syrtis Major Hemisphere Enhanced',\n",
       "   'img_url': 'https://astrogeology.usgs.gov/cache/images/ae209b4e408bb6c3e67b6af38168cf28_syrtis_major_enhanced.tif_full.jpg'},\n",
       "  {'title': 'Valles Marineris Hemisphere Enhanced',\n",
       "   'img_url': 'https://astrogeology.usgs.gov/cache/images/7cf2da4bf549ed01c17f206327be4db7_valles_marineris_enhanced.tif_full.jpg'}]}"
      ]
     },
     "execution_count": 21,
     "metadata": {},
     "output_type": "execute_result"
    }
   ],
   "source": [
    "results_dict"
   ]
  },
  {
   "cell_type": "code",
   "execution_count": 22,
   "metadata": {},
   "outputs": [],
   "source": [
    "from flask import Flask\n",
    "from flask_pymongo import PyMongo \n",
    "app=Flask(__name__)\n",
    "import pymongo"
   ]
  },
  {
   "cell_type": "code",
   "execution_count": 23,
   "metadata": {},
   "outputs": [],
   "source": [
    "conn='mongodb://localhost:27017'\n",
    "client = pymongo.MongoClient(conn)\n",
    "db= client.mars_db\n",
    "collection = db.mars"
   ]
  },
  {
   "cell_type": "code",
   "execution_count": 24,
   "metadata": {},
   "outputs": [
    {
     "name": "stderr",
     "output_type": "stream",
     "text": [
      "C:\\Users\\ARJUNJohri\\Anaconda3\\lib\\site-packages\\ipykernel_launcher.py:1: DeprecationWarning: update is deprecated. Use replace_one, update_one or update_many instead.\n",
      "  \"\"\"Entry point for launching an IPython kernel.\n"
     ]
    },
    {
     "data": {
      "text/plain": [
       "{'n': 1,\n",
       " 'nModified': 0,\n",
       " 'upserted': ObjectId('5e1914c4d508396b6ec945db'),\n",
       " 'ok': 1.0,\n",
       " 'updatedExisting': False}"
      ]
     },
     "execution_count": 24,
     "metadata": {},
     "output_type": "execute_result"
    }
   ],
   "source": [
    "collection.update({},results_dict, upsert=True)"
   ]
  },
  {
   "cell_type": "code",
   "execution_count": 53,
   "metadata": {},
   "outputs": [],
   "source": [
    "result=db.mars.find()"
   ]
  },
  {
   "cell_type": "code",
   "execution_count": 54,
   "metadata": {},
   "outputs": [],
   "source": [
    "for row in result:\n",
    "    mars_dict=row"
   ]
  },
  {
   "cell_type": "code",
   "execution_count": 55,
   "metadata": {},
   "outputs": [
    {
     "data": {
      "text/plain": [
       "{'_id': ObjectId('5e1914c4d508396b6ec945db'),\n",
       " 'Mars_News_Titles': [\"Media Get a Close-Up of NASA's Mars 2020 Rover\",\n",
       "  'Space History Is Made in This NASA Robot Factory',\n",
       "  \"NASA's Mars 2020 Rover Completes Its First Drive\",\n",
       "  \"NASA's Treasure Map for Water Ice on Mars\",\n",
       "  'Two Rovers to Roll on Mars Again: Curiosity and Mars 2020',\n",
       "  \"NASA's Briefcase-Size MarCO Satellite Picks Up Honors\",\n",
       "  'Global Storms on Mars Launch Dust Towers Into the Sky',\n",
       "  'NASA Updates Mars 2020 Mission Environmental Review',\n",
       "  'Two of a Space Kind: Apollo 12 and Mars 2020',\n",
       "  'Mars Scientists Investigate Ancient Life in Australia',\n",
       "  \"NASA's Mars 2020 Will Hunt for Microscopic Fossils\",\n",
       "  'With Mars Methane Mystery Unsolved, Curiosity Serves Scientists a New One: Oxygen',\n",
       "  \"NASA's Mars 2020 Heads Into the Test Chamber\",\n",
       "  \"Screening Soon: 'The Pathfinders' Trains Lens on Mars\",\n",
       "  \"InSight's 'Mole' Team Peers into the Pit\",\n",
       "  \"Common Questions about InSight's 'Mole'\",\n",
       "  'Mars 2020 Stands on Its Own Six Wheels',\n",
       "  'New Selfie Shows Curiosity, the Mars Chemist',\n",
       "  'Naming a NASA Mars Rover Can Change Your Life',\n",
       "  'Mars 2020 Unwrapped and Ready for More Testing',\n",
       "  \"HiRISE Views NASA's InSight and Curiosity on Mars\",\n",
       "  \"NASA's Curiosity Rover Finds an Ancient Oasis on Mars\",\n",
       "  \"NASA's Mars 2020 Rover Tests Descent-Stage Separation\",\n",
       "  \"NASA's Push to Save the Mars InSight Lander's Heat Probe\",\n",
       "  \"NASA's InSight 'Hears' Peculiar Sounds on Mars\",\n",
       "  'NASA Mars Mission Connects With Bosnian and Herzegovinian Town',\n",
       "  \"Deadline Closing for Names to Fly on NASA's Next Mars Rover\",\n",
       "  'NASA Wins Two Emmy Awards for Interactive Mission Coverage',\n",
       "  \"NASA's Mars 2020 Comes Full Circle\",\n",
       "  'NASA Invites Students to Name Mars 2020 Rover',\n",
       "  \"NASA's Mars Helicopter Attached to Mars 2020 Rover \",\n",
       "  \"What's Mars Solar Conjunction, and Why Does It Matter?\",\n",
       "  'Scientists Explore Outback as Testbed for Mars ',\n",
       "  \"NASA-JPL Names 'Rolling Stones Rock' on Mars\",\n",
       "  \"Robotic Toolkit Added to NASA's Mars 2020 Rover\",\n",
       "  \"Space Samples Link NASA's Apollo 11 and Mars 2020\",\n",
       "  'Small Satellite Mission of the Year',\n",
       "  \"NASA 'Optometrists' Verify Mars 2020 Rover's 20/20 Vision\",\n",
       "  'New Finds for Mars Rover, Seven Years After Landing',\n",
       "  'MEDLI2 Installation on Mars 2020 Aeroshell Begins'],\n",
       " 'Mars_News_Paragraphs': [\"The clean room at NASA's Jet Propulsion Laboratory was open to the media to see NASA's next Mars explorer before it leaves for Florida in preparation for a summertime launch.\",\n",
       "  \"From rockets to rovers, JPL's Spacecraft Assembly Facility has been at the center of robotic spaceflight. Here's a closer look at what makes it so special.\",\n",
       "  'In a 10-plus-hour marathon, the rover steered, turned and drove in 3-foot (1-meter) increments over small ramps.',\n",
       "  'A new study identifies frozen water just below the Martian surface, where astronauts could easily dig it up.',\n",
       "  'They look like twins. But under the hood, the rover currently exploring the Red Planet and the one launching there this summer have distinct science tools and roles to play.',\n",
       "  'The twin spacecraft, the first of their kind to fly into deep space, earn a Laureate from Aviation Week & Space Technology.',\n",
       "  'A Mars Dust Tower Stands Out Dust storms are common on Mars. But every decade or so, something unpredictable happens: a series of runaway storms break out, covering the entire planet in a dusty haze.',\n",
       "  'NASA and the Department of Energy have completed a more detailed risk analysis for the Mars 2020 rover launch from Florida.',\n",
       "  'Apollo 12 and the upcoming Mars 2020 mission may be separated by half a century, but they share several goals unique in the annals of space exploration.',\n",
       "  \"Teams with NASA's Mars 2020 and ESA's ExoMars practiced hunting for fossilized microbial life in the Australian Outback in preparation for their Red Planet missions. \",\n",
       "  \"A new paper identifies a ring of minerals at the rover's landing site that are ideal for fossilizing microbial life.\",\n",
       "  'For the first time in the history of space exploration, scientists have measured the seasonal changes in the gases that fill the air directly above the surface of Gale Crater on Mars. ',\n",
       "  'In this time-lapse video taken at JPL, engineers move the Mars 2020 rover into a large vacuum chamber for testing in Mars-like environmental conditions.',\n",
       "  'With the Mars 2020 mission ramping up, the documentary — the first of four about past JPL missions to the Red Planet to be shown at Caltech — tells a gripping backstory.',\n",
       "  'Efforts to save the heat probe continue.',\n",
       "  'There\\'s a new plan to get InSight\\'s \"mole\" moving again. The following Q&As with two members of the team answer some of the most common questions about the burrowing device, part of a science instrument called the Heat Flow and Physical Properties Package (HP3).',\n",
       "  \"In time-lapse video, taken at JPL, captures the first time NASA's Mars 2020 rover carries its full weight on its legs and wheels.\",\n",
       "  'The NASA rover performed a special chemistry experiment at the location captured in its newest self-portrait.',\n",
       "  'Want to name the robotic scientist NASA is sending to Mars in 2020? The student who named Curiosity — the rover currently exploring Mars — will tell you this is an opportunity worth taking.',\n",
       "  \"In time-lapse video, bunny-suited engineers remove the inner layer of protective foil on NASA's Mars 2020 rover after it was relocated for testing.\",\n",
       "  'New images taken from space offer the clearest orbital glimpse yet of InSight as well as a view of Curiosity rolling along.',\n",
       "  \"New evidence suggests salty, shallow ponds once dotted a Martian crater — a sign of the planet's drying climate.\",\n",
       "  \"A crane lifts the rocket-powered descent stage away from NASA's Mars 2020 rover after technicians tested the pyrotechnic charges that separate the two spacecraft.\",\n",
       "  \"The scoop on the end of the spacecraft's robotic arm will be used to 'pin' the mole against the wall of its hole.\",\n",
       "  'Listen to the marsquakes and other, less-expected sounds that the Mars lander has been detecting.',\n",
       "  'A letter from NASA was presented to the mayor of Jezero, Bosnia-Herzegovina, honoring the connection between the town and Jezero Crater, the Mars 2020 rover landing site.',\n",
       "  'You have until Sept. 30 to send your names to Mars aboard the Mars 2020 rover. ',\n",
       "  \"NASA-JPL's coverage of the Mars InSight landing earns one of the two wins, making this the NASA center's second Emmy.\",\n",
       "  \"Aiming to pinpoint the Martian vehicle's center of gravity, engineers took NASA's 2,300-pound Mars 2020 rover for a spin in the clean room at JPL. \",\n",
       "  \"Through Nov. 1, K-12 students in the U.S. are encouraged to enter an essay contest to name NASA's next Mars rover.\",\n",
       "  'The helicopter will be first aircraft to perform flight tests on another planet.',\n",
       "  'NASA spacecraft at Mars are going to be on their own for a few weeks when the Sun comes between Mars and Earth, interrupting communications.',\n",
       "  \"Australia provides a great place for NASA's Mars 2020 and the ESA-Roscosmos ExoMars scientists to hone techniques in preparation for searching for signs ancient life on Mars.\",\n",
       "  \"NASA's Mars InSight mission honored one of the biggest bands of all time at Pasadena concert.\",\n",
       "  \"The bit carousel, which lies at the heart of the rover's Sample Caching System, is now aboard NASA's newest rover. \",\n",
       "  \"While separated by half a century, NASA's Apollo 11 and Mars 2020 missions share the same historic goal: returning samples to Earth.\",\n",
       "  'The first interplanetary CubeSats were recognized by the engineering community with the 2019 Small Satellite Mission of the Year award.',\n",
       "  'Mars 2020 rover underwent an eye exam after several cameras were installed on the rover.',\n",
       "  'NASA\\'s Curiosity rover is discovering odd rocks halfway into a region called the \"clay-bearing unit.\"',\n",
       "  \"Hardware installed onto NASA's Mars 2020 entry vehicle this week will help to increase the safety of future Mars landings.\"],\n",
       " 'Main_Image': 'https://www.jpl.nasa.gov/spaceimages/images/mediumsize/PIA16192_ip.jpg',\n",
       " 'Mars_Weather': 'InSight sol 398 (2020-01-09) low -100.6ºC (-149.1ºF) high -16.8ºC (1.8ºF)\\nwinds from the SSE at 6.1 m/s (13.6 mph) gusting to 19.5 m/s (43.7 mph)\\npressure at 6.40 hPapic.twitter.com/kmdvrZ2M8m',\n",
       " 'Mars_Details_inTablehtml': '<table border=\"1\" class=\"dataframe\">\\n  <thead>\\n    <tr style=\"text-align: right;\">\\n      <th></th>\\n      <th>0</th>\\n      <th>1</th>\\n    </tr>\\n  </thead>\\n  <tbody>\\n    <tr>\\n      <th>0</th>\\n      <td>Equatorial Diameter:</td>\\n      <td>6,792 km</td>\\n    </tr>\\n    <tr>\\n      <th>1</th>\\n      <td>Polar Diameter:</td>\\n      <td>6,752 km</td>\\n    </tr>\\n    <tr>\\n      <th>2</th>\\n      <td>Mass:</td>\\n      <td>6.39 × 10^23 kg (0.11 Earths)</td>\\n    </tr>\\n    <tr>\\n      <th>3</th>\\n      <td>Moons:</td>\\n      <td>2 (Phobos &amp; Deimos)</td>\\n    </tr>\\n    <tr>\\n      <th>4</th>\\n      <td>Orbit Distance:</td>\\n      <td>227,943,824 km (1.38 AU)</td>\\n    </tr>\\n    <tr>\\n      <th>5</th>\\n      <td>Orbit Period:</td>\\n      <td>687 days (1.9 years)</td>\\n    </tr>\\n    <tr>\\n      <th>6</th>\\n      <td>Surface Temperature:</td>\\n      <td>-87 to -5 °C</td>\\n    </tr>\\n    <tr>\\n      <th>7</th>\\n      <td>First Record:</td>\\n      <td>2nd millennium BC</td>\\n    </tr>\\n    <tr>\\n      <th>8</th>\\n      <td>Recorded By:</td>\\n      <td>Egyptian astronomers</td>\\n    </tr>\\n  </tbody>\\n</table>',\n",
       " 'Hemisphere_Images': [{'title': 'Cerberus Hemisphere Enhanced',\n",
       "   'img_url': 'https://astrogeology.usgs.gov/cache/images/cfa62af2557222a02478f1fcd781d445_cerberus_enhanced.tif_full.jpg'},\n",
       "  {'title': 'Schiaparelli Hemisphere Enhanced',\n",
       "   'img_url': 'https://astrogeology.usgs.gov/cache/images/3cdd1cbf5e0813bba925c9030d13b62e_schiaparelli_enhanced.tif_full.jpg'},\n",
       "  {'title': 'Syrtis Major Hemisphere Enhanced',\n",
       "   'img_url': 'https://astrogeology.usgs.gov/cache/images/ae209b4e408bb6c3e67b6af38168cf28_syrtis_major_enhanced.tif_full.jpg'},\n",
       "  {'title': 'Valles Marineris Hemisphere Enhanced',\n",
       "   'img_url': 'https://astrogeology.usgs.gov/cache/images/7cf2da4bf549ed01c17f206327be4db7_valles_marineris_enhanced.tif_full.jpg'}]}"
      ]
     },
     "execution_count": 55,
     "metadata": {},
     "output_type": "execute_result"
    }
   ],
   "source": [
    "mars_dict"
   ]
  },
  {
   "cell_type": "code",
   "execution_count": null,
   "metadata": {},
   "outputs": [],
   "source": []
  },
  {
   "cell_type": "code",
   "execution_count": 29,
   "metadata": {},
   "outputs": [
    {
     "data": {
      "text/plain": [
       "Collection(Database(MongoClient(host=['localhost:27017'], document_class=dict, tz_aware=False, connect=True), 'mars_db'), 'mars')"
      ]
     },
     "execution_count": 29,
     "metadata": {},
     "output_type": "execute_result"
    }
   ],
   "source": [
    "db.mars"
   ]
  },
  {
   "cell_type": "code",
   "execution_count": null,
   "metadata": {},
   "outputs": [],
   "source": []
  }
 ],
 "metadata": {
  "kernelspec": {
   "display_name": "Python 3",
   "language": "python",
   "name": "python3"
  },
  "language_info": {
   "codemirror_mode": {
    "name": "ipython",
    "version": 3
   },
   "file_extension": ".py",
   "mimetype": "text/x-python",
   "name": "python",
   "nbconvert_exporter": "python",
   "pygments_lexer": "ipython3",
   "version": "3.7.3"
  }
 },
 "nbformat": 4,
 "nbformat_minor": 2
}
