{
 "cells": [
  {
   "cell_type": "code",
   "execution_count": 2,
   "metadata": {},
   "outputs": [],
   "source": [
    "from bs4 import BeautifulSoup as bs\n",
    "import pandas as pd\n",
    "from splinter import Browser"
   ]
  },
  {
   "cell_type": "code",
   "execution_count": 14,
   "metadata": {},
   "outputs": [],
   "source": [
    "executable_path = {'executable_path':'chromedriver.exe'}\n",
    "browser=Browser('chrome',**executable_path,headless=False)\n",
    "url='https://mars.nasa.gov/news'\n",
    "browser.visit(url)\n",
    "\n",
    "html=browser.html\n",
    "soup=bs(html,'html.parser')"
   ]
  },
  {
   "cell_type": "code",
   "execution_count": 42,
   "metadata": {},
   "outputs": [],
   "source": [
    "classlists=soup.find_all(class_=\"list_text\")\n",
    "titletext=[]\n",
    "paratext=[]\n",
    "for classlist in classlists:\n",
    "    titletext.append((classlist.find_all(class_='content_title'))[0].a.text)\n",
    "    paratext.append((classlist.find_all(class_='article_teaser_body'))[0].text)"
   ]
  },
  {
   "cell_type": "code",
   "execution_count": null,
   "metadata": {},
   "outputs": [],
   "source": [
    "browser=Browser('chrome',**executable_path,headless=False)\n",
    "url1='https://www.jpl.nasa.gov/spaceimages/?search=&category=Mars'\n",
    "browser.visit(url1)\n",
    "\n",
    "html1=browser.html\n",
    "soup1=bs(html1,'html.parser')"
   ]
  },
  {
   "cell_type": "code",
   "execution_count": null,
   "metadata": {},
   "outputs": [],
   "source": [
    "classlists=soup.find_all(class_=\"list_text\")\n",
    "titletext=[]\n",
    "paratext=[]\n",
    "for classlist in classlists:\n",
    "    titletext.append((classlist.find_all(class_='content_title'))[0].a.text)\n",
    "    paratext.append((classlist.find_all(class_='article_teaser_body'))[0].text)"
   ]
  }
 ],
 "metadata": {
  "kernelspec": {
   "display_name": "Python 3",
   "language": "python",
   "name": "python3"
  },
  "language_info": {
   "codemirror_mode": {
    "name": "ipython",
    "version": 3
   },
   "file_extension": ".py",
   "mimetype": "text/x-python",
   "name": "python",
   "nbconvert_exporter": "python",
   "pygments_lexer": "ipython3",
   "version": "3.7.3"
  }
 },
 "nbformat": 4,
 "nbformat_minor": 2
}
